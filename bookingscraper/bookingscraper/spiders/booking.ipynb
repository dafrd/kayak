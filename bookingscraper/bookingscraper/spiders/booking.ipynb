{
 "cells": [
  {
   "cell_type": "code",
   "execution_count": 5,
   "metadata": {},
   "outputs": [],
   "source": [
    "import scrapy\n",
    "#from booking.items import BookingItem\n",
    "from scrapy.utils.response import open_in_browser\n",
    "from scrapy.shell import inspect_response\n",
    "from statistics import mean\n",
    "import datetime\n",
    "from dateutil.parser import parse \n",
    "import pandas as pd\n",
    "pd.set_option('display.max_colwidth', None)\n",
    "import os\n",
    "import datetime"
   ]
  },
  {
   "cell_type": "code",
   "execution_count": 6,
   "metadata": {},
   "outputs": [
    {
     "data": {
      "text/html": [
       "<div>\n",
       "<style scoped>\n",
       "    .dataframe tbody tr th:only-of-type {\n",
       "        vertical-align: middle;\n",
       "    }\n",
       "\n",
       "    .dataframe tbody tr th {\n",
       "        vertical-align: top;\n",
       "    }\n",
       "\n",
       "    .dataframe thead th {\n",
       "        text-align: right;\n",
       "    }\n",
       "</style>\n",
       "<table border=\"1\" class=\"dataframe\">\n",
       "  <thead>\n",
       "    <tr style=\"text-align: right;\">\n",
       "      <th></th>\n",
       "      <th>0</th>\n",
       "    </tr>\n",
       "  </thead>\n",
       "  <tbody>\n",
       "    <tr>\n",
       "      <th>0</th>\n",
       "      <td>https://www.booking.com/searchresults.fr.html?group_adults=2&amp;checkin=2022-10-09&amp;ss=Marseille&amp;no_rooms=1&amp;checkout=2022-10-11&amp;lang=fr&amp;order=review_score_and_price</td>\n",
       "    </tr>\n",
       "    <tr>\n",
       "      <th>1</th>\n",
       "      <td>https://www.booking.com/searchresults.fr.html?group_adults=2&amp;checkin=2022-10-09&amp;ss=Cassis&amp;no_rooms=1&amp;checkout=2022-10-11&amp;lang=fr&amp;order=review_score_and_price</td>\n",
       "    </tr>\n",
       "    <tr>\n",
       "      <th>2</th>\n",
       "      <td>https://www.booking.com/searchresults.fr.html?group_adults=2&amp;checkin=2022-10-09&amp;ss=Saintes Maries de la mer&amp;no_rooms=1&amp;checkout=2022-10-11&amp;lang=fr&amp;order=review_score_and_price</td>\n",
       "    </tr>\n",
       "    <tr>\n",
       "      <th>3</th>\n",
       "      <td>https://www.booking.com/searchresults.fr.html?group_adults=2&amp;checkin=2022-10-09&amp;ss=Aix en Provence&amp;no_rooms=1&amp;checkout=2022-10-11&amp;lang=fr&amp;order=review_score_and_price</td>\n",
       "    </tr>\n",
       "    <tr>\n",
       "      <th>4</th>\n",
       "      <td>https://www.booking.com/searchresults.fr.html?group_adults=2&amp;checkin=2022-10-09&amp;ss=Collioure&amp;no_rooms=1&amp;checkout=2022-10-11&amp;lang=fr&amp;order=review_score_and_price</td>\n",
       "    </tr>\n",
       "    <tr>\n",
       "      <th>5</th>\n",
       "      <td>https://www.booking.com/searchresults.fr.html?group_adults=2&amp;checkin=2022-10-09&amp;ss=Aigues Mortes&amp;no_rooms=1&amp;checkout=2022-10-11&amp;lang=fr&amp;order=review_score_and_price</td>\n",
       "    </tr>\n",
       "  </tbody>\n",
       "</table>\n",
       "</div>"
      ],
      "text/plain": [
       "                                                                                                                                                                                 0\n",
       "0                 https://www.booking.com/searchresults.fr.html?group_adults=2&checkin=2022-10-09&ss=Marseille&no_rooms=1&checkout=2022-10-11&lang=fr&order=review_score_and_price\n",
       "1                    https://www.booking.com/searchresults.fr.html?group_adults=2&checkin=2022-10-09&ss=Cassis&no_rooms=1&checkout=2022-10-11&lang=fr&order=review_score_and_price\n",
       "2  https://www.booking.com/searchresults.fr.html?group_adults=2&checkin=2022-10-09&ss=Saintes Maries de la mer&no_rooms=1&checkout=2022-10-11&lang=fr&order=review_score_and_price\n",
       "3           https://www.booking.com/searchresults.fr.html?group_adults=2&checkin=2022-10-09&ss=Aix en Provence&no_rooms=1&checkout=2022-10-11&lang=fr&order=review_score_and_price\n",
       "4                 https://www.booking.com/searchresults.fr.html?group_adults=2&checkin=2022-10-09&ss=Collioure&no_rooms=1&checkout=2022-10-11&lang=fr&order=review_score_and_price\n",
       "5             https://www.booking.com/searchresults.fr.html?group_adults=2&checkin=2022-10-09&ss=Aigues Mortes&no_rooms=1&checkout=2022-10-11&lang=fr&order=review_score_and_price"
      ]
     },
     "execution_count": 6,
     "metadata": {},
     "output_type": "execute_result"
    }
   ],
   "source": [
    "warmer_cities=[]\n",
    "os.path.abspath(os.getcwd())\n",
    "weather_df = pd.read_csv ('../../../weather.csv')\n",
    "\n",
    "for index, row in weather_df.iterrows():\n",
    "    warmer_cities.append('https://www.booking.com/searchresults.fr.html?group_adults=2&checkin=2022-10-09&ss='+row['city']+'&no_rooms=1&checkout=2022-10-11&lang=fr&order=review_score_and_price')\n",
    "    #print(row['city'])\n",
    "\n",
    "#weather_df = weather_df.head()\n",
    "#for city in weather_df.iterrows():\n",
    "#    print(city)\n",
    "warmer_cities = pd.DataFrame(warmer_cities)\n",
    "warmer_cities = warmer_cities.head(6)\n",
    "warmer_cities"
   ]
  },
  {
   "cell_type": "code",
   "execution_count": 9,
   "metadata": {},
   "outputs": [
    {
     "name": "stdout",
     "output_type": "stream",
     "text": [
      "2022-10-09\n"
     ]
    }
   ],
   "source": [
    "print(datetime.date.today())"
   ]
  },
  {
   "cell_type": "code",
   "execution_count": null,
   "metadata": {},
   "outputs": [],
   "source": []
  }
 ],
 "metadata": {
  "kernelspec": {
   "display_name": "Python 3.10.8 64-bit (microsoft store)",
   "language": "python",
   "name": "python3"
  },
  "language_info": {
   "codemirror_mode": {
    "name": "ipython",
    "version": 3
   },
   "file_extension": ".py",
   "mimetype": "text/x-python",
   "name": "python",
   "nbconvert_exporter": "python",
   "pygments_lexer": "ipython3",
   "version": "3.10.8"
  },
  "orig_nbformat": 4,
  "vscode": {
   "interpreter": {
    "hash": "650fa92be31bf650066ac4047dcada211305a7063c331efd6a8c08465b54e9de"
   }
  }
 },
 "nbformat": 4,
 "nbformat_minor": 2
}
