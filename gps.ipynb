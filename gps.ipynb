{
 "cells": [
  {
   "cell_type": "code",
   "execution_count": 14,
   "metadata": {},
   "outputs": [
    {
     "ename": "ModuleNotFoundError",
     "evalue": "No module named 'pandas'",
     "output_type": "error",
     "traceback": [
      "\u001b[1;31m---------------------------------------------------------------------------\u001b[0m",
      "\u001b[1;31mModuleNotFoundError\u001b[0m                       Traceback (most recent call last)",
      "Cell \u001b[1;32mIn [14], line 2\u001b[0m\n\u001b[0;32m      1\u001b[0m \u001b[38;5;28;01mimport\u001b[39;00m \u001b[38;5;21;01mdestinations\u001b[39;00m\n\u001b[1;32m----> 2\u001b[0m \u001b[38;5;28;01mimport\u001b[39;00m \u001b[38;5;21;01mpandas\u001b[39;00m \u001b[38;5;28;01mas\u001b[39;00m \u001b[38;5;21;01mpd\u001b[39;00m\n\u001b[0;32m      4\u001b[0m destinations_list \u001b[38;5;241m=\u001b[39m destinations\u001b[38;5;241m.\u001b[39mdestinationsList\n",
      "\u001b[1;31mModuleNotFoundError\u001b[0m: No module named 'pandas'"
     ]
    }
   ],
   "source": [
    "import destinations\n",
    "import pandas as pd\n",
    "\n",
    "destinations_list = destinations.destinationsList\n"
   ]
  },
  {
   "cell_type": "code",
   "execution_count": 9,
   "metadata": {},
   "outputs": [
    {
     "name": "stdout",
     "output_type": "stream",
     "text": [
      "['Mont Saint Michel', 'St Malo', 'Bayeux', 'Le Havre', 'Rouen', 'Paris', 'Amiens', 'Lille', 'Strasbourg', 'Chateau du Haut Koenigsbourg', 'Colmar', 'Eguisheim', 'Besancon', 'Dijon', 'Annecy', 'Grenoble', 'Lyon', 'Gorges du Verdon', 'Bormes les Mimosas', 'Cassis', 'Marseille', 'Aix en Provence', 'Avignon', 'Uzes', 'Nimes', 'Aigues Mortes', 'Saintes Maries de la mer', 'Collioure', 'Carcassonne', 'Ariege', 'Toulouse', 'Montauban', 'Biarritz', 'Bayonne', 'La Rochelle']\n"
     ]
    }
   ],
   "source": [
    "print(destinations_list)"
   ]
  },
  {
   "cell_type": "code",
   "execution_count": 11,
   "metadata": {},
   "outputs": [
    {
     "ename": "NameError",
     "evalue": "name 'pd' is not defined",
     "output_type": "error",
     "traceback": [
      "\u001b[1;31m---------------------------------------------------------------------------\u001b[0m",
      "\u001b[1;31mNameError\u001b[0m                                 Traceback (most recent call last)",
      "Cell \u001b[1;32mIn [11], line 1\u001b[0m\n\u001b[1;32m----> 1\u001b[0m df \u001b[38;5;241m=\u001b[39m pd\u001b[38;5;241m.\u001b[39mDataFrame (destinations_list, columns \u001b[38;5;241m=\u001b[39m [\u001b[38;5;124m'\u001b[39m\u001b[38;5;124mcities\u001b[39m\u001b[38;5;124m'\u001b[39m])\n\u001b[0;32m      2\u001b[0m \u001b[38;5;28mprint\u001b[39m (df)\n",
      "\u001b[1;31mNameError\u001b[0m: name 'pd' is not defined"
     ]
    }
   ],
   "source": [
    "df = pd.DataFrame (destinations_list, columns = ['cities'])\n",
    "print (df)"
   ]
  },
  {
   "cell_type": "code",
   "execution_count": 10,
   "metadata": {},
   "outputs": [
    {
     "name": "stdout",
     "output_type": "stream",
     "text": [
      "Mont Saint Michel\n",
      "St Malo\n",
      "Bayeux\n",
      "Le Havre\n",
      "Rouen\n",
      "Paris\n",
      "Amiens\n",
      "Lille\n",
      "Strasbourg\n",
      "Chateau du Haut Koenigsbourg\n",
      "Colmar\n",
      "Eguisheim\n",
      "Besancon\n",
      "Dijon\n",
      "Annecy\n",
      "Grenoble\n",
      "Lyon\n",
      "Gorges du Verdon\n",
      "Bormes les Mimosas\n",
      "Cassis\n",
      "Marseille\n",
      "Aix en Provence\n",
      "Avignon\n",
      "Uzes\n",
      "Nimes\n",
      "Aigues Mortes\n",
      "Saintes Maries de la mer\n",
      "Collioure\n",
      "Carcassonne\n",
      "Ariege\n",
      "Toulouse\n",
      "Montauban\n",
      "Biarritz\n",
      "Bayonne\n",
      "La Rochelle\n"
     ]
    }
   ],
   "source": [
    "# getting length of list\n",
    "length = len(destinations_list)\n",
    "   \n",
    "# Iterating the index\n",
    "# same as 'for i in range(len(list))'\n",
    "for i in range(length):\n",
    "    print(destinations_list[i])"
   ]
  }
 ],
 "metadata": {
  "kernelspec": {
   "display_name": "Python 3.10.7 ('venv': venv)",
   "language": "python",
   "name": "python3"
  },
  "language_info": {
   "codemirror_mode": {
    "name": "ipython",
    "version": 3
   },
   "file_extension": ".py",
   "mimetype": "text/x-python",
   "name": "python",
   "nbconvert_exporter": "python",
   "pygments_lexer": "ipython3",
   "version": "3.10.7"
  },
  "orig_nbformat": 4,
  "vscode": {
   "interpreter": {
    "hash": "6f59e936f4980c3c6595ec02e624f497311312a00b194f83a0dcca5dee59a37b"
   }
  }
 },
 "nbformat": 4,
 "nbformat_minor": 2
}
